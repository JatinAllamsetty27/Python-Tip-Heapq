{
 "cells": [
  {
   "cell_type": "markdown",
   "metadata": {},
   "source": [
    "<div style=\"border-radius:10px;\n",
    "            border:#0b0265 solid;\n",
    "           background-color:#0077be;\n",
    "           font-size:110%;\n",
    "           letter-spacing:0.5px;\n",
    "            text-align: center\">\n",
    "\n",
    "<center><h1 style=\"padding: 25px 0px; background color:#0077be; font-weight: bold; font-family: Cursive\">\n",
    "Python Tips-2</h1></center>\n",
    "\n",
    "</div>"
   ]
  },
  {
   "cell_type": "markdown",
   "metadata": {},
   "source": [
    "## 1) Tuple Unpacking + Tuple Unpacking With *"
   ]
  },
  {
   "cell_type": "code",
   "execution_count": 1,
   "metadata": {},
   "outputs": [],
   "source": [
    "person = ['jatin', 20, 'male']\n",
    "\n",
    "name, age, gender = person"
   ]
  },
  {
   "cell_type": "code",
   "execution_count": 2,
   "metadata": {},
   "outputs": [
    {
     "name": "stdout",
     "output_type": "stream",
     "text": [
      "['jatin', 20, 'male'] jatin 20 male\n"
     ]
    }
   ],
   "source": [
    "print(person,name,age,gender)"
   ]
  },
  {
   "cell_type": "markdown",
   "metadata": {},
   "source": [
    " we can use tuple unpacking to assign multiple variables at one go."
   ]
  },
  {
   "cell_type": "code",
   "execution_count": 3,
   "metadata": {},
   "outputs": [],
   "source": [
    "fruits = ['apple', 'orange', 'pear', 'pineapple', 'durian', 'banana']\n",
    "\n",
    "first, second, *others = fruits"
   ]
  },
  {
   "cell_type": "markdown",
   "metadata": {},
   "source": [
    " we can add * in front of variables to unpack everything else into that variable."
   ]
  },
  {
   "cell_type": "markdown",
   "metadata": {},
   "source": [
    "## 2) List Comprehension + Dict/Set Comprehension"
   ]
  },
  {
   "cell_type": "code",
   "execution_count": 5,
   "metadata": {},
   "outputs": [],
   "source": [
    "#lis = [expression for i in iterable if condition]\n",
    "l1 = [i for i in range(1,4)]              # [1,2,3]\n",
    "\n",
    "l2 = [i*2 for i in range(1,4)]            # [2,4,6]\n",
    "\n",
    "l3 = [i**2 for i in range(1,4)]           # [1,4,9]\n",
    "\n",
    "l4 = [i for i in range(1,4) if i%2==1]    # [1,3]"
   ]
  },
  {
   "cell_type": "code",
   "execution_count": 6,
   "metadata": {},
   "outputs": [
    {
     "name": "stdout",
     "output_type": "stream",
     "text": [
      "[1, 2, 3] [2, 4, 6] [1, 4, 9] [1, 3]\n"
     ]
    }
   ],
   "source": [
    "print(l1,l2,l3,l4)"
   ]
  },
  {
   "cell_type": "markdown",
   "metadata": {},
   "source": [
    " with list comprehension, we can create a custom list in one line of code."
   ]
  },
  {
   "cell_type": "code",
   "execution_count": 7,
   "metadata": {},
   "outputs": [],
   "source": [
    "set1 = {i for i in range(1,4)}          # {1,2,3}\n",
    "\n",
    "d1 = {i:i**2 for i in range(1,4)}       # {1:1, 2:4, 3:9}"
   ]
  },
  {
   "cell_type": "code",
   "execution_count": 8,
   "metadata": {},
   "outputs": [
    {
     "name": "stdout",
     "output_type": "stream",
     "text": [
      "{1, 2, 3} {1: 1, 2: 4, 3: 9}\n"
     ]
    }
   ],
   "source": [
    "print(set1,d1)"
   ]
  },
  {
   "cell_type": "markdown",
   "metadata": {},
   "source": [
    "set comprehension and dictionary comprehension can be used to create sets and dictionaries in the same way we create lists using list comprehensions."
   ]
  },
  {
   "cell_type": "markdown",
   "metadata": {},
   "source": [
    "## 3) Ternary operator"
   ]
  },
  {
   "cell_type": "code",
   "execution_count": 9,
   "metadata": {},
   "outputs": [
    {
     "name": "stdout",
     "output_type": "stream",
     "text": [
      "pass\n"
     ]
    }
   ],
   "source": [
    "score = 57\n",
    "if score > 90:\n",
    "  grade = 'A*'\n",
    "elif score > 50:\n",
    "  grade = 'pass'\n",
    "else:\n",
    "  grade = 'fail'\n",
    "print(grade)"
   ]
  },
  {
   "cell_type": "markdown",
   "metadata": {},
   "source": [
    "## 4) Magic Methods In Python Classes"
   ]
  },
  {
   "cell_type": "code",
   "execution_count": 10,
   "metadata": {},
   "outputs": [],
   "source": [
    "class Dog():\n",
    "  def __init__(self, name, age):\n",
    "    self.name = name\n",
    "    self.age = age\n",
    "\n",
    "  def __str__(self):\n",
    "    return f'Dog(name={self.name}, age={self.age})'\n",
    "\n",
    "  def __gt__(self, otherDog):\n",
    "    return self.age > otherDog.age"
   ]
  },
  {
   "cell_type": "code",
   "execution_count": 11,
   "metadata": {},
   "outputs": [
    {
     "name": "stdout",
     "output_type": "stream",
     "text": [
      "Dog(name=rocky, age=4)\n"
     ]
    }
   ],
   "source": [
    "dog = Dog('rocky', 4)\n",
    "print(dog)  "
   ]
  },
  {
   "cell_type": "markdown",
   "metadata": {},
   "source": [
    "the __str__ magic method defines what is returned when we call str(dog), which is called when we print the dog object."
   ]
  },
  {
   "cell_type": "code",
   "execution_count": 12,
   "metadata": {},
   "outputs": [
    {
     "name": "stdout",
     "output_type": "stream",
     "text": [
      "True\n"
     ]
    }
   ],
   "source": [
    "dog1 = Dog('rocky', 4)\n",
    "dog2 = Dog('fifi', 2)\n",
    "\n",
    "print(dog1 > dog2)"
   ]
  },
  {
   "cell_type": "markdown",
   "metadata": {},
   "source": [
    "the __gt__ magic method defines what happens when we compare 2 dogs using the > operator."
   ]
  },
  {
   "cell_type": "markdown",
   "metadata": {},
   "source": [
    "## 5) *args and **kwargs"
   ]
  },
  {
   "cell_type": "code",
   "execution_count": 13,
   "metadata": {},
   "outputs": [
    {
     "name": "stdout",
     "output_type": "stream",
     "text": [
      "a=1 b=2 args=(3, 4, 5)\n"
     ]
    }
   ],
   "source": [
    "def test(a, b, *args):\n",
    "  print(f'{a=} {b=} {args=}')\n",
    "\n",
    "test(1,2,3,4,5)  # a=1 b=2 args=(3,4,5)"
   ]
  },
  {
   "cell_type": "markdown",
   "metadata": {},
   "source": [
    "*args allow our functions to take in any number of positional arguments (which will be stored in a tuple args)"
   ]
  },
  {
   "cell_type": "code",
   "execution_count": 14,
   "metadata": {},
   "outputs": [
    {
     "name": "stdout",
     "output_type": "stream",
     "text": [
      "a=1 b=2 kwargs={'c': 3, 'd': 4}\n"
     ]
    }
   ],
   "source": [
    "def test(a, b, **kwargs):\n",
    "  print(f'{a=} {b=} {kwargs=}')\n",
    "\n",
    "test(a=1, b=2, c=3, d=4)    # a=1 b=2 kwargs={'c': 3, 'd': 4}"
   ]
  },
  {
   "cell_type": "markdown",
   "metadata": {},
   "source": [
    "**kwargs allow our functions to take in any number of keyword arguments (which will be stored in a dict kwargs)"
   ]
  },
  {
   "cell_type": "markdown",
   "metadata": {},
   "source": [
    "## 6) Working with multiple .py files"
   ]
  },
  {
   "cell_type": "code",
   "execution_count": 16,
   "metadata": {},
   "outputs": [
    {
     "name": "stdout",
     "output_type": "stream",
     "text": [
      "test123 is called\n"
     ]
    }
   ],
   "source": [
    "# helper.py\n",
    "def test123():\n",
    "  print('test123 is called')\n",
    "# main.py\n",
    "#from helper import test123\n",
    "\n",
    "test123()    # test123 is called"
   ]
  },
  {
   "cell_type": "markdown",
   "metadata": {},
   "source": [
    "When you get a job as a software engineer, you WILL work on projects with many many many different files. Do get familiar early with how to import functions from other files."
   ]
  },
  {
   "cell_type": "markdown",
   "metadata": {},
   "source": [
    "## 7) if __name__ == ‘__main__’"
   ]
  },
  {
   "cell_type": "code",
   "execution_count": 17,
   "metadata": {},
   "outputs": [
    {
     "name": "stdout",
     "output_type": "stream",
     "text": [
      "print statement from helper.py\n",
      "test123 is called\n"
     ]
    }
   ],
   "source": [
    "# helper.py\n",
    "def test123():\n",
    "  print('test123 is called')\n",
    "\n",
    "if __name__ == '__main__':\n",
    "  # this line only runs if we run helper.py DIRECTLY\n",
    "  print('print statement from helper.py')\n",
    "# main.py\n",
    "#from helper import *\n",
    "\n",
    "test123()    # test123 is called"
   ]
  },
  {
   "cell_type": "markdown",
   "metadata": {},
   "source": [
    "the line if __name__ == '__main__' evaluates to True in a .py file only if we run the .py file directly. We use this line so that we don’t accidentally run lines of code that we don’t intend to run."
   ]
  },
  {
   "cell_type": "markdown",
   "metadata": {},
   "source": [
    "## 8) Truthy & falsy values"
   ]
  },
  {
   "cell_type": "code",
   "execution_count": 19,
   "metadata": {},
   "outputs": [
    {
     "name": "stdout",
     "output_type": "stream",
     "text": [
      "this prints\n",
      "this prints\n",
      "this prints\n",
      "this prints\n",
      "this prints\n",
      "this prints\n",
      "this prints\n",
      "this prints\n",
      "this prints\n"
     ]
    }
   ],
   "source": [
    "# 0 if falsy, and evaluates to False\n",
    "if 0: print('this wont print')\n",
    "\n",
    "# non-zero numbers are truthy, and evaluate to True\n",
    "if 1: print('this prints')\n",
    "if 2: print('this prints')\n",
    "if 100: print('this prints')\n",
    "if -1: print('this prints')\n",
    "if 3.14: print('this prints')\n",
    "# empty sequences are falsy, and evaluate to False\n",
    "if '': print('this wont print')\n",
    "if []: print('this wont print')\n",
    "if {}: print('this wont print')\n",
    "if set(): print('this wont print')\n",
    "\n",
    "# non-empty sequences are truthy, and evaluate to True\n",
    "if 'a': print('this prints')\n",
    "if [1]: print('this prints')\n",
    "if {2:3}: print('this prints')\n",
    "if {1,2}: print('this prints')\n",
    "# None is falsy, and evaluates to False\n",
    "obj = None\n",
    "if obj: print('this wont print')\n",
    "\n",
    "# objects are truthy, and evaluates to True\n",
    "#obj = Dog()\n",
    "#if obj: print('this prints')"
   ]
  },
  {
   "cell_type": "markdown",
   "metadata": {},
   "source": [
    "<div style=\"font-family: Times New Roman; font-size: 16px; color: #333; background-color: #f8f8f8; padding: 10px; border: 1px solid #ccc;\">\n",
    "    <p>🙏 Thank you all for taking the time to read my backpropagation notebook! I am incredibly grateful for your support and engagement. It means a lot to me to see your positive response and thoughtful comments. Your feedback and encouragement motivate me to keep sharing valuable content. If there's anything specific you'd like me to cover in the future, please let me know. Once again, thank you for being a part of this journey! 🌟\n",
    "\n",
    "Regards       \n",
    "Jatin</p>\n",
    "</div>"
   ]
  }
 ],
 "metadata": {
  "kernelspec": {
   "display_name": "Python 3",
   "language": "python",
   "name": "python3"
  },
  "language_info": {
   "codemirror_mode": {
    "name": "ipython",
    "version": 3
   },
   "file_extension": ".py",
   "mimetype": "text/x-python",
   "name": "python",
   "nbconvert_exporter": "python",
   "pygments_lexer": "ipython3",
   "version": "3.8.5"
  }
 },
 "nbformat": 4,
 "nbformat_minor": 4
}
