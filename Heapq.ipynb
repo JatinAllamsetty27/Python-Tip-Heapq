{
 "cells": [
  {
   "cell_type": "markdown",
   "id": "681f92d7",
   "metadata": {},
   "source": [
    "<div style=\"border-radius:10px;\n",
    "            border:#0b0265 solid;\n",
    "           background-color:#0077be;\n",
    "           font-size:110%;\n",
    "           letter-spacing:0.5px;\n",
    "            text-align: center\">\n",
    "\n",
    "<center><h1 style=\"padding: 25px 0px; background color:#0077be; font-weight: bold; font-family: Cursive\">\n",
    "Heapq</h1></center>\n",
    "\n",
    "</div>"
   ]
  },
  {
   "cell_type": "markdown",
   "id": "03112258",
   "metadata": {},
   "source": [
    "# Heap Queue"
   ]
  },
  {
   "cell_type": "markdown",
   "id": "26a3d916",
   "metadata": {},
   "source": [
    "The heap structure is used to represent priority queues and comes with the heapq module. Why is this useful? If you need to find the n-largest or n-smallest elements from a list, this could be done by employing its two methods: nsmallest() and nlargest().\n",
    "import heapq"
   ]
  },
  {
   "cell_type": "code",
   "execution_count": 1,
   "id": "e8e24d18",
   "metadata": {},
   "outputs": [],
   "source": [
    "import heapq"
   ]
  },
  {
   "cell_type": "code",
   "execution_count": 2,
   "id": "ebb907b4",
   "metadata": {},
   "outputs": [],
   "source": [
    "simple_list = [5, 12, 93, 1, 53, 17]"
   ]
  },
  {
   "cell_type": "code",
   "execution_count": 3,
   "id": "30768fee",
   "metadata": {},
   "outputs": [
    {
     "name": "stdout",
     "output_type": "stream",
     "text": [
      "3 smallest values: [1, 5, 12]\n",
      "2 smallest values: [1, 5]\n"
     ]
    }
   ],
   "source": [
    "print('3 smallest values:', heapq.nsmallest(3, simple_list))\n",
    "print('2 smallest values:', heapq.nsmallest(2, simple_list))"
   ]
  },
  {
   "cell_type": "code",
   "execution_count": 4,
   "id": "7d013e70",
   "metadata": {},
   "outputs": [
    {
     "name": "stdout",
     "output_type": "stream",
     "text": [
      "5 largest values: [93, 53, 17, 12, 5]\n",
      "3 largest values: [93, 53]\n"
     ]
    }
   ],
   "source": [
    "print('5 largest values:', heapq.nlargest(5, simple_list))\n",
    "print('3 largest values:', heapq.nlargest(2, simple_list))"
   ]
  },
  {
   "cell_type": "markdown",
   "id": "fadd01ec",
   "metadata": {},
   "source": [
    "# PYTORCH TIP\n",
    "## Gradient Clipping"
   ]
  },
  {
   "cell_type": "markdown",
   "id": "c7473963",
   "metadata": {},
   "source": [
    "Gradient clipping is a technique used in deep learning to prevent exploding gradients during training. It involves setting a maximum value for the gradient, and if the gradient exceeds this value, it is scaled down to the maximum. This can help to prevent the model from diverging or oscillating during training, which can lead to poor performance. The necessary change to the existing code is minimal, as it can be seen from the following snippet.\n",
    "        "
   ]
  },
  {
   "cell_type": "raw",
   "id": "0643f9d0",
   "metadata": {},
   "source": [
    "optimizer.zero_grad()        \n",
    "loss, hidden = model(data, hidden, targets)\n",
    "loss.backward()\n",
    "\n",
    "torch.nn.utils.clip_grad_norm(model.parameters(), clip_value)\n",
    "\n",
    "optimizer.step()"
   ]
  }
 ],
 "metadata": {
  "kernelspec": {
   "display_name": "Python 3 (ipykernel)",
   "language": "python",
   "name": "python3"
  },
  "language_info": {
   "codemirror_mode": {
    "name": "ipython",
    "version": 3
   },
   "file_extension": ".py",
   "mimetype": "text/x-python",
   "name": "python",
   "nbconvert_exporter": "python",
   "pygments_lexer": "ipython3",
   "version": "3.10.9"
  }
 },
 "nbformat": 4,
 "nbformat_minor": 5
}
